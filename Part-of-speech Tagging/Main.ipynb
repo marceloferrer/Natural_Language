{
  "cells": [
    {
      "attachments": {},
      "cell_type": "markdown",
      "id": "hRjETfxrvgGh",
      "metadata": {
        "id": "hRjETfxrvgGh"
      },
      "source": [
        "**Part-of-speech (PoS) Tagging**\n",
        "\n",
        "Implementation of a neural PoS sequence labeling model based on long short-term memory networks to label the words of a given input sentence according to their morphological information.\n",
        "\n",
        "The basic model must receive as input word level embeddings. \n",
        "The advance model in addition to word-level embeddings also uses character-level embeddings.\n",
        "\n",
        "Code developed by Marcelo Ferrer and Aymen Merchaoui"
      ]
    },
    {
      "attachments": {},
      "cell_type": "markdown",
      "id": "GKsIOmFpxUgP",
      "metadata": {
        "id": "GKsIOmFpxUgP"
      },
      "source": [
        "# Imports and Declarations"
      ]
    },
    {
      "cell_type": "code",
      "execution_count": 1,
      "id": "C8D4Mx6l9F9J",
      "metadata": {
        "colab": {
          "base_uri": "https://localhost:8080/"
        },
        "id": "C8D4Mx6l9F9J",
        "outputId": "f9119f2c-006a-4052-a3a1-c1f7b9edeb30"
      },
      "outputs": [
        {
          "name": "stdout",
          "output_type": "stream",
          "text": [
            "Looking in indexes: https://pypi.org/simple, https://us-python.pkg.dev/colab-wheels/public/simple/\n",
            "Requirement already satisfied: conllu in /usr/local/lib/python3.7/dist-packages (4.5.2)\n"
          ]
        }
      ],
      "source": [
        "# Installs conllu, a python library to parse Universal Dependencies https://pypi.org/project/conllu/\n",
        "!pip install conllu"
      ]
    },
    {
      "cell_type": "code",
      "execution_count": 2,
      "id": "bjoai1Hk6a5-",
      "metadata": {
        "id": "bjoai1Hk6a5-"
      },
      "outputs": [],
      "source": [
        "# List of constants\n",
        "# Google drive folder path where the files are located\n",
        "LOCAL_DRIVE_PATH = '/content/drive/MyDrive/P1/'\n",
        "# Model to use in the execution\n",
        "BASIC_CURRENT_MODEL = \"Functional_Bi\"\n",
        "# Model to use in the execution\n",
        "ADVANCED_CURRENT_MODEL = \"Functional_Char\"\n",
        "# Use a RNN layer instead of a LSTM layer\n",
        "USE_RNN = False\n",
        "# Agregate an extra dense layer of N neurons\n",
        "DENSE_LEN=128\n",
        "# Optimizer to use in the compilation of the model\n",
        "OPTIMIZER = \"Adam\" #RMSProp, Nadam\n",
        "# Maximun length of the sequences \n",
        "MAX_LEN = 128\n",
        "# Maximun length of the char sequences \n",
        "CHAR_LEN = 18\n",
        "# Size of the batch to use in the data training\n",
        "TRAIN_DATA_BATCH_SIZE = 64\n",
        "# Embedding size\n",
        "EMBEDDING_SIZE = 128\n",
        "# Char Embedding size\n",
        "CHAR_EMBEDDING_SIZE = 20\n",
        "# Maximun length of the char LSTM units \n",
        "CHAR_UNIT_SIZE = 128\n",
        "# Size of the batch to use in the training\n",
        "BATCH_SIZE = 64\n",
        "# Amount of epochs to train\n",
        "EPOCHS = 10\n",
        "# Print samples of the data and model\n",
        "SHOW_SAMPLES = False\n",
        "# Urls of the languagues\n",
        "URL_TRAIN_ENG='https://raw.githubusercontent.com/UniversalDependencies/UD_English-EWT/master/en_ewt-ud-train.conllu'\n",
        "URL_TEST_ENG='https://raw.githubusercontent.com/UniversalDependencies/UD_English-EWT/master/en_ewt-ud-test.conllu'\n",
        "URL_VAL_ENG='https://raw.githubusercontent.com/UniversalDependencies/UD_English-EWT/master/en_ewt-ud-dev.conllu'\n",
        "URL_TRAIN_SPA='https://raw.githubusercontent.com/UniversalDependencies/UD_Spanish-GSD/master/es_gsd-ud-train.conllu'\n",
        "URL_TEST_SPA='https://raw.githubusercontent.com/UniversalDependencies/UD_Spanish-GSD/master/es_gsd-ud-test.conllu'\n",
        "URL_VAL_SPA='https://raw.githubusercontent.com/UniversalDependencies/UD_Spanish-GSD/master/es_gsd-ud-dev.conllu'\n",
        "URL_TRAIN_GER='https://raw.githubusercontent.com/UniversalDependencies/UD_German-GSD/master/de_gsd-ud-train.conllu'\n",
        "URL_TEST_GER='https://raw.githubusercontent.com/UniversalDependencies/UD_German-GSD/master/de_gsd-ud-test.conllu'\n",
        "URL_VAL_GER='https://raw.githubusercontent.com/UniversalDependencies/UD_German-GSD/master/de_gsd-ud-dev.conllu'"
      ]
    },
    {
      "cell_type": "code",
      "execution_count": 3,
      "id": "7f9f4b3c",
      "metadata": {
        "colab": {
          "base_uri": "https://localhost:8080/"
        },
        "id": "7f9f4b3c",
        "outputId": "c50aa9fb-832e-493a-df8c-ea0b3c745597"
      },
      "outputs": [
        {
          "name": "stdout",
          "output_type": "stream",
          "text": [
            "Drive already mounted at /content/drive; to attempt to forcibly remount, call drive.mount(\"/content/drive\", force_remount=True).\n"
          ]
        }
      ],
      "source": [
        "# Mount google drive to use the .py classes\n",
        "from google.colab import drive\n",
        "drive.mount('/content/drive')"
      ]
    },
    {
      "cell_type": "code",
      "execution_count": 4,
      "id": "kaiU2soSQ4wJ",
      "metadata": {
        "id": "kaiU2soSQ4wJ"
      },
      "outputs": [],
      "source": [
        "# Import the path in the drive where the py files are alocated\n",
        "import sys\n",
        "\n",
        "sys.path.append(LOCAL_DRIVE_PATH)"
      ]
    },
    {
      "cell_type": "code",
      "execution_count": 5,
      "id": "ZuWhLHdfJuv4",
      "metadata": {
        "id": "ZuWhLHdfJuv4"
      },
      "outputs": [],
      "source": [
        "# Imports our python classes from the drive\n",
        "from DataHandler import MyDataHandler\n",
        "from ModelHandler import MyModelHandler"
      ]
    },
    {
      "cell_type": "code",
      "execution_count": 6,
      "id": "XjbPa4LtWVS9",
      "metadata": {
        "id": "XjbPa4LtWVS9"
      },
      "outputs": [],
      "source": [
        "# Restart execution environment to reload changes done to python files before importing"
      ]
    },
    {
      "attachments": {},
      "cell_type": "markdown",
      "id": "Bsi8aWyVxwwx",
      "metadata": {
        "id": "Bsi8aWyVxwwx"
      },
      "source": [
        "# Basic English Model"
      ]
    },
    {
      "cell_type": "code",
      "execution_count": 7,
      "id": "8aV3csoeImg3",
      "metadata": {
        "id": "8aV3csoeImg3"
      },
      "outputs": [],
      "source": [
        "# Create an instance of the data handler\n",
        "dh_eng = MyDataHandler(MAX_LEN)\n",
        "\n",
        "# Gets the dataset of training, evaluation and generation of labels.\n",
        "(train_inputs, word_counts, train_outputs, tag_counts) = dh_eng.get_Procesed_Data(URL_TRAIN_ENG, False, SHOW_SAMPLES)\n",
        "(test_inputs, test_word_counts, test_outputs, test_tag_counts) = dh_eng.get_Procesed_Data(URL_TEST_ENG, True, SHOW_SAMPLES)\n",
        "(val_inputs, val_word_counts, val_outputs, val_tag_counts) = dh_eng.get_Procesed_Data(URL_VAL_ENG, True, SHOW_SAMPLES)\n",
        "\n",
        "# Transform training information into batches\n",
        "train_ds = dh_eng.get_Batches(train_inputs,train_outputs,TRAIN_DATA_BATCH_SIZE)"
      ]
    },
    {
      "cell_type": "code",
      "execution_count": 8,
      "id": "FDjH5sotmzwI",
      "metadata": {
        "colab": {
          "base_uri": "https://localhost:8080/"
        },
        "id": "FDjH5sotmzwI",
        "outputId": "953b3ded-80a8-45d8-d118-ee5a7d04d7be"
      },
      "outputs": [
        {
          "name": "stdout",
          "output_type": "stream",
          "text": [
            "Epoch 1/10\n",
            "196/196 [==============================] - 15s 33ms/step - loss: 0.1549 - accuracy: 0.6356 - val_loss: 0.0452 - val_accuracy: 0.8583\n",
            "Epoch 2/10\n",
            "196/196 [==============================] - 4s 21ms/step - loss: 0.0342 - accuracy: 0.9196 - val_loss: 0.0329 - val_accuracy: 0.8977\n",
            "Epoch 3/10\n",
            "196/196 [==============================] - 4s 21ms/step - loss: 0.0187 - accuracy: 0.9568 - val_loss: 0.0303 - val_accuracy: 0.9064\n",
            "Epoch 4/10\n",
            "196/196 [==============================] - 4s 21ms/step - loss: 0.0138 - accuracy: 0.9679 - val_loss: 0.0303 - val_accuracy: 0.9084\n",
            "Epoch 5/10\n",
            "196/196 [==============================] - 4s 21ms/step - loss: 0.0110 - accuracy: 0.9746 - val_loss: 0.0312 - val_accuracy: 0.9094\n",
            "Epoch 6/10\n",
            "196/196 [==============================] - 4s 21ms/step - loss: 0.0090 - accuracy: 0.9797 - val_loss: 0.0322 - val_accuracy: 0.9106\n",
            "Epoch 6: early stopping\n",
            "65/65 [==============================] - 0s 7ms/step - loss: 0.0310 - accuracy: 0.9102\n"
          ]
        }
      ],
      "source": [
        "# Create and instance of the model\n",
        "mh_bas_eng = MyModelHandler(BASIC_CURRENT_MODEL, word_counts, tag_counts, EMBEDDING_SIZE,  EMBEDDING_SIZE, MAX_LEN, SHOW_SAMPLES, USE_RNN, DENSE_LEN)\n",
        "# Evaluate a trained model and report the tagging accuracy on both the validation/development and test sets\n",
        "mh_bas_eng.train(\"categorical_crossentropy\", OPTIMIZER, \"accuracy\", EPOCHS, BATCH_SIZE, train_ds, val_inputs, val_outputs, test_inputs, test_outputs)"
      ]
    },
    {
      "cell_type": "code",
      "execution_count": 9,
      "id": "UbYqAmKBn41U",
      "metadata": {
        "colab": {
          "base_uri": "https://localhost:8080/"
        },
        "id": "UbYqAmKBn41U",
        "outputId": "a09e82d0-5444-4869-992e-9753a905f46b"
      },
      "outputs": [
        {
          "name": "stdout",
          "output_type": "stream",
          "text": [
            "65/65 [==============================] - 3s 6ms/step\n",
            "Total words:  25096\n",
            "Works correctly predicted:  22842\n"
          ]
        }
      ],
      "source": [
        "# Verify that the model converges successfully.\n",
        "predict_bas_eng = mh_bas_eng.evaluate_predict(test_inputs, test_outputs, MAX_LEN)\n",
        "\n",
        "# print the results\n",
        "print(\"Total words: \", predict_bas_eng[0])\n",
        "print(\"Works correctly predicted: \", predict_bas_eng[1])"
      ]
    },
    {
      "attachments": {},
      "cell_type": "markdown",
      "id": "gazePEy-aX1B",
      "metadata": {
        "id": "gazePEy-aX1B"
      },
      "source": [
        "**User Input Sentences Function**"
      ]
    },
    {
      "cell_type": "code",
      "execution_count": 10,
      "id": "VDz1ZwkVoAni",
      "metadata": {
        "colab": {
          "base_uri": "https://localhost:8080/"
        },
        "id": "VDz1ZwkVoAni",
        "outputId": "571856c6-8666-49b2-f6a8-0b678655ccae"
      },
      "outputs": [
        {
          "name": "stdout",
          "output_type": "stream",
          "text": [
            "1/1 [==============================] - 0s 19ms/step\n",
            "Google is a nice search engine.\n",
            "['propn aux det adj noun noun punct']\n",
            "1/1 [==============================] - 0s 17ms/step\n",
            "Mary has a cat\n",
            "['propn verb det noun']\n",
            "1/1 [==============================] - 0s 16ms/step\n",
            "Spiderman exists\n",
            "['noun verb']\n",
            "1/1 [==============================] - 0s 22ms/step\n",
            "I am real\n",
            "['pron aux adj']\n"
          ]
        }
      ],
      "source": [
        "# To compute the part-of-speech tags for given new, previously unseen sentences inputted by the user.\n",
        "# Change, add or remove strings inside the vector to try new values\n",
        "text_to_predict = [\"Google is a nice search engine.\", \"Mary has a cat\", \"Spiderman exists\", \"I am real\"]\n",
        "\n",
        "for x in text_to_predict:\n",
        "  res = dh_eng.get_Detokenized_Values([mh_bas_eng.test_predict(dh_eng.get_Test_Data(x))], \"Output\")\n",
        "  print(x)\n",
        "  print(res)"
      ]
    },
    {
      "attachments": {},
      "cell_type": "markdown",
      "id": "IVK30j4Jyys1",
      "metadata": {
        "id": "IVK30j4Jyys1"
      },
      "source": [
        "# Basic Spanish Model"
      ]
    },
    {
      "cell_type": "code",
      "execution_count": 11,
      "id": "AvnzYJXpyys6",
      "metadata": {
        "id": "AvnzYJXpyys6"
      },
      "outputs": [],
      "source": [
        "# Create an instance of the data handler\n",
        "dh_spa = MyDataHandler(MAX_LEN,0)\n",
        "\n",
        "# Gets the dataset of training, evaluation and generation of labels.\n",
        "(train_inputs, word_counts, train_outputs, tag_counts) = dh_spa.get_Procesed_Data(URL_TRAIN_SPA, False, SHOW_SAMPLES)\n",
        "(test_inputs, test_word_counts, test_outputs, test_tag_counts) = dh_spa.get_Procesed_Data(URL_TEST_SPA, True, SHOW_SAMPLES)\n",
        "(val_inputs, val_word_counts, val_outputs, val_tag_counts) = dh_spa.get_Procesed_Data(URL_VAL_SPA, True, SHOW_SAMPLES)\n",
        "\n",
        "# Transform training information into batches\n",
        "train_ds = dh_spa.get_Batches(train_inputs,train_outputs,TRAIN_DATA_BATCH_SIZE)"
      ]
    },
    {
      "cell_type": "code",
      "execution_count": 12,
      "id": "RBIEIoRGyys7",
      "metadata": {
        "colab": {
          "base_uri": "https://localhost:8080/"
        },
        "id": "RBIEIoRGyys7",
        "outputId": "fda23208-fdad-4263-f82d-3e7f052cab12"
      },
      "outputs": [
        {
          "name": "stdout",
          "output_type": "stream",
          "text": [
            "Epoch 1/10\n",
            "222/222 [==============================] - 15s 35ms/step - loss: 0.2346 - accuracy: 0.6755 - val_loss: 0.0633 - val_accuracy: 0.9105\n",
            "Epoch 2/10\n",
            "222/222 [==============================] - 6s 26ms/step - loss: 0.0436 - accuracy: 0.9390 - val_loss: 0.0416 - val_accuracy: 0.9372\n",
            "Epoch 3/10\n",
            "222/222 [==============================] - 5s 24ms/step - loss: 0.0243 - accuracy: 0.9650 - val_loss: 0.0424 - val_accuracy: 0.9365\n",
            "Epoch 4/10\n",
            "222/222 [==============================] - 5s 24ms/step - loss: 0.0184 - accuracy: 0.9727 - val_loss: 0.0413 - val_accuracy: 0.9381\n",
            "Epoch 5/10\n",
            "222/222 [==============================] - 5s 24ms/step - loss: 0.0145 - accuracy: 0.9785 - val_loss: 0.0444 - val_accuracy: 0.9368\n",
            "Epoch 6/10\n",
            "222/222 [==============================] - 5s 23ms/step - loss: 0.0113 - accuracy: 0.9834 - val_loss: 0.0509 - val_accuracy: 0.9310\n",
            "Epoch 7/10\n",
            "222/222 [==============================] - 5s 23ms/step - loss: 0.0088 - accuracy: 0.9874 - val_loss: 0.0531 - val_accuracy: 0.9293\n",
            "Epoch 7: early stopping\n",
            "14/14 [==============================] - 0s 8ms/step - loss: 0.0548 - accuracy: 0.9306\n"
          ]
        }
      ],
      "source": [
        "# Create and instance of the model\n",
        "mh_bas_spa =  MyModelHandler(BASIC_CURRENT_MODEL, word_counts, tag_counts, EMBEDDING_SIZE,  EMBEDDING_SIZE, MAX_LEN, SHOW_SAMPLES, USE_RNN)\n",
        "# Evaluate a trained model and report the tagging accuracy on both the validation/development and test sets. Divide the batch size by 2 to prevent overfitting \n",
        "mh_bas_spa.train(\"categorical_crossentropy\", OPTIMIZER, \"accuracy\", EPOCHS, BATCH_SIZE , train_ds, val_inputs, val_outputs, test_inputs, test_outputs)"
      ]
    },
    {
      "cell_type": "code",
      "execution_count": 13,
      "id": "_g69UPsayys7",
      "metadata": {
        "colab": {
          "base_uri": "https://localhost:8080/"
        },
        "id": "_g69UPsayys7",
        "outputId": "1daa7bf3-6589-440c-d9b3-ee067b93f383"
      },
      "outputs": [
        {
          "name": "stdout",
          "output_type": "stream",
          "text": [
            "14/14 [==============================] - 2s 8ms/step\n",
            "Total words:  11993\n",
            "Works correctly predicted:  11161\n"
          ]
        }
      ],
      "source": [
        "# Verify that the model converges successfully.\n",
        "predict_bas_spa = mh_bas_spa.evaluate_predict(test_inputs, test_outputs, MAX_LEN)\n",
        "\n",
        "# print the results\n",
        "print(\"Total words: \", predict_bas_spa[0])\n",
        "print(\"Works correctly predicted: \", predict_bas_spa[1])"
      ]
    },
    {
      "attachments": {},
      "cell_type": "markdown",
      "id": "tpZbTiPtaqjw",
      "metadata": {
        "id": "tpZbTiPtaqjw"
      },
      "source": [
        "**User Input Sentences Function**"
      ]
    },
    {
      "cell_type": "code",
      "execution_count": 14,
      "id": "fOGs0zLdyys7",
      "metadata": {
        "colab": {
          "base_uri": "https://localhost:8080/"
        },
        "id": "fOGs0zLdyys7",
        "outputId": "cf0bdaf4-ae88-4eda-dc46-00f270cf2cae"
      },
      "outputs": [
        {
          "name": "stdout",
          "output_type": "stream",
          "text": [
            "1/1 [==============================] - 0s 20ms/step\n",
            "Google es un buen motor de busqueda.\n",
            "['propn aux det adj noun adp noun punct']\n",
            "1/1 [==============================] - 0s 22ms/step\n",
            "Mary tiene un gato\n",
            "['propn verb det noun']\n",
            "1/1 [==============================] - 0s 18ms/step\n",
            "Spiderman existe\n",
            "['aux verb']\n",
            "1/1 [==============================] - 0s 20ms/step\n",
            "Yo soy real\n",
            "['pron aux adj']\n"
          ]
        }
      ],
      "source": [
        "# To compute the part-of-speech tags for given new, previously unseen sentences inputted by the user.\n",
        "# Change, add or remove strings inside the vector to try new values\n",
        "text_to_predict = [\"Google es un buen motor de busqueda.\", \"Mary tiene un gato\",\"Spiderman existe\", \"Yo soy real\"]\n",
        "\n",
        "for x in text_to_predict:\n",
        "  res = dh_spa.get_Detokenized_Values([mh_bas_spa.test_predict(dh_spa.get_Test_Data(x))], \"Output\")\n",
        "  print(x)\n",
        "  print(res)"
      ]
    },
    {
      "attachments": {},
      "cell_type": "markdown",
      "id": "2kJPvf9Ay0XS",
      "metadata": {
        "id": "2kJPvf9Ay0XS"
      },
      "source": [
        "# Basic German Model"
      ]
    },
    {
      "cell_type": "code",
      "execution_count": 15,
      "id": "3Rg6CG5ey0XT",
      "metadata": {
        "id": "3Rg6CG5ey0XT"
      },
      "outputs": [],
      "source": [
        "# Create an instance of the data handler\n",
        "dh_ger = MyDataHandler(MAX_LEN,0)\n",
        "\n",
        "# Gets the dataset of training, evaluation and generation of labels.\n",
        "(train_inputs, word_counts, train_outputs, tag_counts) = dh_ger.get_Procesed_Data(URL_TRAIN_GER, False, SHOW_SAMPLES)\n",
        "(test_inputs, test_word_counts, test_outputs, test_tag_counts) = dh_ger.get_Procesed_Data(URL_TEST_GER, True, SHOW_SAMPLES)\n",
        "(val_inputs, val_word_counts, val_outputs, val_tag_counts) = dh_ger.get_Procesed_Data(URL_VAL_GER, True, SHOW_SAMPLES)\n",
        "\n",
        "# Transform training information into batches\n",
        "train_ds = dh_ger.get_Batches(train_inputs,train_outputs,TRAIN_DATA_BATCH_SIZE)"
      ]
    },
    {
      "cell_type": "code",
      "execution_count": 16,
      "id": "tgRV2Ln2y0XT",
      "metadata": {
        "colab": {
          "base_uri": "https://localhost:8080/"
        },
        "id": "tgRV2Ln2y0XT",
        "outputId": "a0f11c00-dbe1-4722-b817-b7b9f44f5ec5"
      },
      "outputs": [
        {
          "name": "stdout",
          "output_type": "stream",
          "text": [
            "Epoch 1/10\n",
            "216/216 [==============================] - 14s 32ms/step - loss: 0.1729 - accuracy: 0.6414 - val_loss: 0.0732 - val_accuracy: 0.8217\n",
            "Epoch 2/10\n",
            "216/216 [==============================] - 4s 21ms/step - loss: 0.0348 - accuracy: 0.9304 - val_loss: 0.0458 - val_accuracy: 0.8857\n",
            "Epoch 3/10\n",
            "216/216 [==============================] - 5s 21ms/step - loss: 0.0161 - accuracy: 0.9682 - val_loss: 0.0441 - val_accuracy: 0.8942\n",
            "Epoch 4/10\n",
            "216/216 [==============================] - 5s 21ms/step - loss: 0.0111 - accuracy: 0.9776 - val_loss: 0.0462 - val_accuracy: 0.8977\n",
            "Epoch 5/10\n",
            "216/216 [==============================] - 5s 21ms/step - loss: 0.0083 - accuracy: 0.9835 - val_loss: 0.0512 - val_accuracy: 0.8900\n",
            "Epoch 6/10\n",
            "216/216 [==============================] - 5s 21ms/step - loss: 0.0063 - accuracy: 0.9877 - val_loss: 0.0484 - val_accuracy: 0.9023\n",
            "Epoch 6: early stopping\n",
            "31/31 [==============================] - 0s 7ms/step - loss: 0.0590 - accuracy: 0.8954\n"
          ]
        }
      ],
      "source": [
        "# Create and instance of the model\n",
        "mh_bas_ger =  MyModelHandler(BASIC_CURRENT_MODEL, word_counts, tag_counts, EMBEDDING_SIZE,  EMBEDDING_SIZE, MAX_LEN, SHOW_SAMPLES, USE_RNN)\n",
        "# Evaluate a trained model and report the tagging accuracy on both the validation/development and test sets\n",
        "mh_bas_ger.train(\"categorical_crossentropy\", OPTIMIZER, \"accuracy\", EPOCHS, BATCH_SIZE, train_ds, val_inputs, val_outputs, test_inputs, test_outputs)"
      ]
    },
    {
      "cell_type": "code",
      "execution_count": 17,
      "id": "NQx99MOEy0XT",
      "metadata": {
        "colab": {
          "base_uri": "https://localhost:8080/"
        },
        "id": "NQx99MOEy0XT",
        "outputId": "942558ca-e259-4b49-cd6c-9be615425037"
      },
      "outputs": [
        {
          "name": "stdout",
          "output_type": "stream",
          "text": [
            "31/31 [==============================] - 2s 6ms/step\n",
            "Total words:  16493\n",
            "Works correctly predicted:  14772\n"
          ]
        }
      ],
      "source": [
        "# Verify that the model converges successfully.\n",
        "predict_bas_ger = mh_bas_ger.evaluate_predict(test_inputs, test_outputs, MAX_LEN)\n",
        "\n",
        "# print the results\n",
        "print(\"Total words: \", predict_bas_ger[0])\n",
        "print(\"Works correctly predicted: \", predict_bas_ger[1])"
      ]
    },
    {
      "attachments": {},
      "cell_type": "markdown",
      "id": "eZA2hO7Aaxvd",
      "metadata": {
        "id": "eZA2hO7Aaxvd"
      },
      "source": [
        "**User Input Sentences Function**"
      ]
    },
    {
      "cell_type": "code",
      "execution_count": 18,
      "id": "iyOqf_Gjy0XT",
      "metadata": {
        "colab": {
          "base_uri": "https://localhost:8080/"
        },
        "id": "iyOqf_Gjy0XT",
        "outputId": "47d96f2a-576a-47ff-f1a0-01be97990676"
      },
      "outputs": [
        {
          "name": "stdout",
          "output_type": "stream",
          "text": [
            "1/1 [==============================] - 0s 25ms/step\n",
            "Google ist eine nette Suchmaschine.\n",
            "['propn aux det adj noun punct']\n",
            "1/1 [==============================] - 0s 18ms/step\n",
            "Mary hat eine Katze\n",
            "['propn aux det noun']\n",
            "1/1 [==============================] - 0s 16ms/step\n",
            "Spiderman existiert\n",
            "['verb verb']\n",
            "1/1 [==============================] - 0s 22ms/step\n",
            "ich bin echt\n",
            "['pron aux adv']\n"
          ]
        }
      ],
      "source": [
        "# To compute the part-of-speech tags for given new, previously unseen sentences inputted by the user.\n",
        "# Change, add or remove strings inside the vector to try new values\n",
        "text_to_predict = [\"Google ist eine nette Suchmaschine.\",\"Mary hat eine Katze\", \"Spiderman existiert\",\"ich bin echt\"]\n",
        "\n",
        "for x in text_to_predict:\n",
        "  res = dh_ger.get_Detokenized_Values([mh_bas_ger.test_predict(dh_ger.get_Test_Data(x))], \"Output\")\n",
        "  print(x)\n",
        "  print(res)"
      ]
    },
    {
      "attachments": {},
      "cell_type": "markdown",
      "id": "iV1y8brK8xLj",
      "metadata": {
        "id": "iV1y8brK8xLj"
      },
      "source": [
        "# Advanced English Model"
      ]
    },
    {
      "cell_type": "code",
      "execution_count": 19,
      "id": "AyhJ3hU58xLq",
      "metadata": {
        "id": "AyhJ3hU58xLq"
      },
      "outputs": [],
      "source": [
        "# Create an instance of the data handler\n",
        "dh_eng = MyDataHandler(MAX_LEN, CHAR_LEN)\n",
        "\n",
        "# Gets the dataset of training, evaluation and generation of labels.\n",
        "(train_inputs, word_counts, train_char_inputs, char_counts, train_outputs, tag_counts) = dh_eng.get_char_Procesed_Data(URL_TRAIN_ENG, False, SHOW_SAMPLES)\n",
        "(test_inputs, test_word_counts, test_char_inputs, test_char_counts, test_outputs, test_tag_counts) = dh_eng.get_char_Procesed_Data(URL_TEST_ENG, True, SHOW_SAMPLES)\n",
        "(val_inputs, val_word_counts, val_char_inputs, val_char_counts, val_outputs, val_tag_counts) = dh_eng.get_char_Procesed_Data(URL_VAL_ENG, True, SHOW_SAMPLES)"
      ]
    },
    {
      "cell_type": "code",
      "execution_count": 20,
      "id": "Pwa24T2p8xLq",
      "metadata": {
        "colab": {
          "base_uri": "https://localhost:8080/"
        },
        "id": "Pwa24T2p8xLq",
        "outputId": "fab28398-2fad-4620-c72f-e89994a28fdd"
      },
      "outputs": [
        {
          "name": "stdout",
          "output_type": "stream",
          "text": [
            "Epoch 1/10\n",
            "196/196 [==============================] - 29s 110ms/step - loss: 0.1505 - accuracy: 0.6443 - val_loss: 0.0376 - val_accuracy: 0.8865\n",
            "Epoch 2/10\n",
            "196/196 [==============================] - 18s 92ms/step - loss: 0.0272 - accuracy: 0.9385 - val_loss: 0.0266 - val_accuracy: 0.9153\n",
            "Epoch 3/10\n",
            "196/196 [==============================] - 18s 92ms/step - loss: 0.0154 - accuracy: 0.9645 - val_loss: 0.0248 - val_accuracy: 0.9223\n",
            "Epoch 4/10\n",
            "196/196 [==============================] - 18s 91ms/step - loss: 0.0114 - accuracy: 0.9726 - val_loss: 0.0260 - val_accuracy: 0.9208\n",
            "Epoch 5/10\n",
            "196/196 [==============================] - 18s 92ms/step - loss: 0.0090 - accuracy: 0.9787 - val_loss: 0.0256 - val_accuracy: 0.9238\n",
            "Epoch 6/10\n",
            "196/196 [==============================] - 18s 92ms/step - loss: 0.0072 - accuracy: 0.9835 - val_loss: 0.0272 - val_accuracy: 0.9233\n",
            "Epoch 6: early stopping\n",
            "65/65 [==============================] - 1s 23ms/step - loss: 0.0235 - accuracy: 0.9287\n"
          ]
        }
      ],
      "source": [
        "# Create and instance of the model\n",
        "mh_adv_eng = MyModelHandler(ADVANCED_CURRENT_MODEL, word_counts, tag_counts, EMBEDDING_SIZE, EMBEDDING_SIZE, MAX_LEN, SHOW_SAMPLES, USE_RNN, DENSE_LEN, CHAR_LEN, CHAR_UNIT_SIZE, CHAR_LEN, CHAR_EMBEDDING_SIZE)\n",
        "# Evaluate a trained model and report the tagging accuracy on both the validation/development and test sets\n",
        "mh_adv_eng.train_char(\"categorical_crossentropy\", OPTIMIZER, \"accuracy\", EPOCHS, BATCH_SIZE, train_inputs, train_char_inputs, train_outputs, val_inputs, val_char_inputs, val_outputs, test_inputs, test_char_inputs, test_outputs)"
      ]
    },
    {
      "cell_type": "code",
      "execution_count": 21,
      "id": "nsNo1MJM8xLr",
      "metadata": {
        "colab": {
          "base_uri": "https://localhost:8080/"
        },
        "id": "nsNo1MJM8xLr",
        "outputId": "0beb4413-8b44-4d5f-d3d5-7671d8f474b6"
      },
      "outputs": [
        {
          "name": "stdout",
          "output_type": "stream",
          "text": [
            "65/65 [==============================] - 5s 21ms/step\n",
            "Total words:  25096\n",
            "Works correctly predicted:  23307\n"
          ]
        }
      ],
      "source": [
        "# Verify that the model converges successfully.\n",
        "predict_adv_eng = mh_adv_eng.evaluate_predict_char(test_inputs, test_char_inputs, test_outputs, MAX_LEN)\n",
        "\n",
        "# print the results\n",
        "print(\"Total words: \", predict_adv_eng[0])\n",
        "print(\"Works correctly predicted: \", predict_adv_eng[1])"
      ]
    },
    {
      "attachments": {},
      "cell_type": "markdown",
      "id": "UVT-nw818xLr",
      "metadata": {
        "id": "UVT-nw818xLr"
      },
      "source": [
        "**User Input Sentences Function**"
      ]
    },
    {
      "cell_type": "code",
      "execution_count": 22,
      "id": "-FZvuXvX8xLr",
      "metadata": {
        "colab": {
          "base_uri": "https://localhost:8080/"
        },
        "id": "-FZvuXvX8xLr",
        "outputId": "78e72498-3a2e-4521-b4ed-bb21f906eb0b"
      },
      "outputs": [
        {
          "name": "stdout",
          "output_type": "stream",
          "text": [
            "1/1 [==============================] - 0s 22ms/step\n",
            "/////////////////New Sentence//////////////////////\n",
            "Google ['propn']\n",
            "is ['aux']\n",
            "a ['det']\n",
            "nice ['adj']\n",
            "search ['noun']\n",
            "engine ['noun']\n",
            ". ['punct']\n",
            "/////////////////New Sentence//////////////////////\n",
            "Mary ['propn']\n",
            "has ['verb']\n",
            "a ['det']\n",
            "cat ['noun']\n",
            "/////////////////New Sentence//////////////////////\n",
            "Spiderman ['propn']\n",
            "exists ['verb']\n",
            "/////////////////New Sentence//////////////////////\n",
            "I ['pron']\n",
            "am ['aux']\n",
            "real ['adj']\n"
          ]
        }
      ],
      "source": [
        "# To compute the part-of-speech tags for given new, previously unseen sentences inputted by the user.\n",
        "# Change, add or remove strings inside the vector to try new values\n",
        "text_to_predict = [\"Google is a nice search engine.\", \"Mary has a cat\", \"Spiderman exists\", \"I am real\"]\n",
        "\n",
        "dh_eng.print_Detokenized_char_Values(mh_adv_eng.test_predict_char(dh_eng.get_char_Test_Data(text_to_predict)))"
      ]
    },
    {
      "attachments": {},
      "cell_type": "markdown",
      "id": "3aqHGXUZP0D0",
      "metadata": {
        "id": "3aqHGXUZP0D0"
      },
      "source": [
        "# Advanced Spanish Model"
      ]
    },
    {
      "cell_type": "code",
      "execution_count": 23,
      "id": "UvUmkOwKP0D7",
      "metadata": {
        "id": "UvUmkOwKP0D7"
      },
      "outputs": [],
      "source": [
        "# Create an instance of the data handler\n",
        "dh_spa = MyDataHandler(MAX_LEN, CHAR_LEN)\n",
        "\n",
        "# Gets the dataset of training, evaluation and generation of labels.\n",
        "(train_inputs, word_counts, train_char_inputs, char_counts, train_outputs, tag_counts) = dh_spa.get_char_Procesed_Data(URL_TRAIN_SPA, False, SHOW_SAMPLES)\n",
        "(test_inputs, test_word_counts, test_char_inputs, test_char_counts, test_outputs, test_tag_counts) = dh_spa.get_char_Procesed_Data(URL_TEST_SPA, True, SHOW_SAMPLES)\n",
        "(val_inputs, val_word_counts, val_char_inputs, val_char_counts, val_outputs, val_tag_counts) = dh_spa.get_char_Procesed_Data(URL_VAL_SPA, True, SHOW_SAMPLES)"
      ]
    },
    {
      "cell_type": "code",
      "execution_count": 24,
      "id": "dtWTuQYYP0D8",
      "metadata": {
        "colab": {
          "base_uri": "https://localhost:8080/"
        },
        "id": "dtWTuQYYP0D8",
        "outputId": "49a5a08b-ef4e-4082-9da2-60f10359ae15"
      },
      "outputs": [
        {
          "name": "stdout",
          "output_type": "stream",
          "text": [
            "Epoch 1/10\n",
            "222/222 [==============================] - 37s 118ms/step - loss: 0.2098 - accuracy: 0.6979 - val_loss: 0.0573 - val_accuracy: 0.9179\n",
            "Epoch 2/10\n",
            "222/222 [==============================] - 23s 101ms/step - loss: 0.0399 - accuracy: 0.9434 - val_loss: 0.0385 - val_accuracy: 0.9388\n",
            "Epoch 3/10\n",
            "222/222 [==============================] - 23s 101ms/step - loss: 0.0233 - accuracy: 0.9653 - val_loss: 0.0367 - val_accuracy: 0.9428\n",
            "Epoch 4/10\n",
            "222/222 [==============================] - 23s 102ms/step - loss: 0.0178 - accuracy: 0.9726 - val_loss: 0.0370 - val_accuracy: 0.9431\n",
            "Epoch 5/10\n",
            "222/222 [==============================] - 23s 102ms/step - loss: 0.0143 - accuracy: 0.9781 - val_loss: 0.0393 - val_accuracy: 0.9406\n",
            "Epoch 6/10\n",
            "222/222 [==============================] - 22s 101ms/step - loss: 0.0113 - accuracy: 0.9828 - val_loss: 0.0416 - val_accuracy: 0.9405\n",
            "Epoch 6: early stopping\n",
            "14/14 [==============================] - 0s 29ms/step - loss: 0.0422 - accuracy: 0.9395\n"
          ]
        }
      ],
      "source": [
        "# Create and instance of the model\n",
        "mh_adv_spa = MyModelHandler(ADVANCED_CURRENT_MODEL, word_counts, tag_counts, EMBEDDING_SIZE, EMBEDDING_SIZE, MAX_LEN, SHOW_SAMPLES, USE_RNN, DENSE_LEN, CHAR_LEN, CHAR_UNIT_SIZE, CHAR_LEN, CHAR_EMBEDDING_SIZE)\n",
        "# Evaluate a trained model and report the tagging accuracy on both the validation/development and test sets\n",
        "mh_adv_spa.train_char(\"categorical_crossentropy\", OPTIMIZER, \"accuracy\", EPOCHS, BATCH_SIZE, train_inputs, train_char_inputs, train_outputs, val_inputs, val_char_inputs, val_outputs, test_inputs, test_char_inputs, test_outputs)"
      ]
    },
    {
      "cell_type": "code",
      "execution_count": 25,
      "id": "ko3RejJRP0D8",
      "metadata": {
        "colab": {
          "base_uri": "https://localhost:8080/"
        },
        "id": "ko3RejJRP0D8",
        "outputId": "be266f4e-7767-4f87-fbc6-b967faa611b8"
      },
      "outputs": [
        {
          "name": "stdout",
          "output_type": "stream",
          "text": [
            "14/14 [==============================] - 4s 31ms/step\n",
            "Total words:  11993\n",
            "Works correctly predicted:  11268\n"
          ]
        }
      ],
      "source": [
        "# Verify that the model converges successfully.\n",
        "predict_adv_spa = mh_adv_spa.evaluate_predict_char(test_inputs, test_char_inputs, test_outputs, MAX_LEN)\n",
        "\n",
        "# print the results\n",
        "print(\"Total words: \", predict_adv_spa[0])\n",
        "print(\"Works correctly predicted: \", predict_adv_spa[1])"
      ]
    },
    {
      "attachments": {},
      "cell_type": "markdown",
      "id": "w0xQXRf9P0D9",
      "metadata": {
        "id": "w0xQXRf9P0D9"
      },
      "source": [
        "**User Input Sentences Function**"
      ]
    },
    {
      "cell_type": "code",
      "execution_count": 26,
      "id": "pAe0h1rgP0D9",
      "metadata": {
        "colab": {
          "base_uri": "https://localhost:8080/"
        },
        "id": "pAe0h1rgP0D9",
        "outputId": "127366fb-b635-4364-ae6a-aa80181124e1"
      },
      "outputs": [
        {
          "name": "stdout",
          "output_type": "stream",
          "text": [
            "1/1 [==============================] - 0s 28ms/step\n",
            "/////////////////New Sentence//////////////////////\n",
            "Google ['propn']\n",
            "es ['aux']\n",
            "un ['det']\n",
            "buen ['adj']\n",
            "motor ['noun']\n",
            "de ['adp']\n",
            "busqueda ['propn']\n",
            ". ['punct']\n",
            "/////////////////New Sentence//////////////////////\n",
            "Mary ['propn']\n",
            "tiene ['verb']\n",
            "un ['det']\n",
            "gato ['noun']\n",
            "/////////////////New Sentence//////////////////////\n",
            "Spiderman ['verb']\n",
            "existe ['verb']\n",
            "/////////////////New Sentence//////////////////////\n",
            "Yo ['pron']\n",
            "soy ['aux']\n",
            "real ['adj']\n"
          ]
        }
      ],
      "source": [
        "# To compute the part-of-speech tags for given new, previously unseen sentences inputted by the user.\n",
        "# Change, add or remove strings inside the vector to try new values\n",
        "text_to_predict = [\"Google es un buen motor de busqueda.\", \"Mary tiene un gato\",\"Spiderman existe\", \"Yo soy real\"]\n",
        "\n",
        "dh_spa.print_Detokenized_char_Values(mh_adv_spa.test_predict_char(dh_spa.get_char_Test_Data(text_to_predict)))"
      ]
    },
    {
      "attachments": {},
      "cell_type": "markdown",
      "id": "3Yur6I17P0h3",
      "metadata": {
        "id": "3Yur6I17P0h3"
      },
      "source": [
        "# Advanced German Model"
      ]
    },
    {
      "cell_type": "code",
      "execution_count": 27,
      "id": "WnItNf6KP0h4",
      "metadata": {
        "id": "WnItNf6KP0h4"
      },
      "outputs": [],
      "source": [
        "# Create an instance of the data handler\n",
        "dh_ger = MyDataHandler(MAX_LEN, CHAR_LEN)\n",
        "\n",
        "# Gets the dataset of training, evaluation and generation of labels.\n",
        "(train_inputs, word_counts, train_char_inputs, char_counts, train_outputs, tag_counts) = dh_ger.get_char_Procesed_Data(URL_TRAIN_GER, False, SHOW_SAMPLES)\n",
        "(test_inputs, test_word_counts, test_char_inputs, test_char_counts, test_outputs, test_tag_counts) = dh_ger.get_char_Procesed_Data(URL_TEST_GER, True, SHOW_SAMPLES)\n",
        "(val_inputs, val_word_counts, val_char_inputs, val_char_counts, val_outputs, val_tag_counts) = dh_ger.get_char_Procesed_Data(URL_VAL_GER, True, SHOW_SAMPLES)"
      ]
    },
    {
      "cell_type": "code",
      "execution_count": 28,
      "id": "5IIdxrvmP0h4",
      "metadata": {
        "colab": {
          "base_uri": "https://localhost:8080/"
        },
        "id": "5IIdxrvmP0h4",
        "outputId": "cc60d620-6f1b-4ab1-9dca-03a84145dc06"
      },
      "outputs": [
        {
          "name": "stdout",
          "output_type": "stream",
          "text": [
            "Epoch 1/10\n",
            "216/216 [==============================] - 36s 114ms/step - loss: 0.1602 - accuracy: 0.6516 - val_loss: 0.0508 - val_accuracy: 0.8737\n",
            "Epoch 2/10\n",
            "216/216 [==============================] - 21s 98ms/step - loss: 0.0312 - accuracy: 0.9364 - val_loss: 0.0356 - val_accuracy: 0.9064\n",
            "Epoch 3/10\n",
            "216/216 [==============================] - 21s 98ms/step - loss: 0.0151 - accuracy: 0.9696 - val_loss: 0.0330 - val_accuracy: 0.9165\n",
            "Epoch 4/10\n",
            "216/216 [==============================] - 21s 97ms/step - loss: 0.0105 - accuracy: 0.9781 - val_loss: 0.0356 - val_accuracy: 0.9164\n",
            "Epoch 5/10\n",
            "216/216 [==============================] - 21s 97ms/step - loss: 0.0076 - accuracy: 0.9842 - val_loss: 0.0364 - val_accuracy: 0.9152\n",
            "Epoch 6/10\n",
            "216/216 [==============================] - 21s 98ms/step - loss: 0.0053 - accuracy: 0.9893 - val_loss: 0.0382 - val_accuracy: 0.9176\n",
            "Epoch 6: early stopping\n",
            "31/31 [==============================] - 1s 22ms/step - loss: 0.0496 - accuracy: 0.9102\n"
          ]
        }
      ],
      "source": [
        "# Create and instance of the model\n",
        "mh_adv_ger = MyModelHandler(ADVANCED_CURRENT_MODEL, word_counts, tag_counts, EMBEDDING_SIZE, EMBEDDING_SIZE, MAX_LEN, SHOW_SAMPLES, USE_RNN, DENSE_LEN, CHAR_LEN, CHAR_UNIT_SIZE, CHAR_LEN, CHAR_EMBEDDING_SIZE)\n",
        "# Evaluate a trained model and report the tagging accuracy on both the validation/development and test sets\n",
        "mh_adv_ger.train_char(\"categorical_crossentropy\", OPTIMIZER, \"accuracy\", EPOCHS, BATCH_SIZE, train_inputs, train_char_inputs, train_outputs, val_inputs, val_char_inputs, val_outputs, test_inputs, test_char_inputs, test_outputs)"
      ]
    },
    {
      "cell_type": "code",
      "execution_count": 29,
      "id": "89c035HiP0h5",
      "metadata": {
        "colab": {
          "base_uri": "https://localhost:8080/"
        },
        "id": "89c035HiP0h5",
        "outputId": "8898c795-cade-4ccd-d45a-929cd95fd92c"
      },
      "outputs": [
        {
          "name": "stdout",
          "output_type": "stream",
          "text": [
            "31/31 [==============================] - 4s 23ms/step\n",
            "Total words:  16493\n",
            "Works correctly predicted:  15015\n"
          ]
        }
      ],
      "source": [
        "# Verify that the model converges successfully.\n",
        "predict_adv_ger = mh_adv_ger.evaluate_predict_char(test_inputs, test_char_inputs, test_outputs, MAX_LEN)\n",
        "\n",
        "# print the results\n",
        "print(\"Total words: \", predict_adv_ger[0])\n",
        "print(\"Works correctly predicted: \", predict_adv_ger[1])"
      ]
    },
    {
      "attachments": {},
      "cell_type": "markdown",
      "id": "RMYjC26nP0h5",
      "metadata": {
        "id": "RMYjC26nP0h5"
      },
      "source": [
        "**User Input Sentences Function**"
      ]
    },
    {
      "cell_type": "code",
      "execution_count": 30,
      "id": "k4tDZOnaP0h5",
      "metadata": {
        "colab": {
          "base_uri": "https://localhost:8080/"
        },
        "id": "k4tDZOnaP0h5",
        "outputId": "a135788d-0e47-4ecd-f144-eeb9c5ed49e0"
      },
      "outputs": [
        {
          "name": "stdout",
          "output_type": "stream",
          "text": [
            "1/1 [==============================] - 0s 23ms/step\n",
            "/////////////////New Sentence//////////////////////\n",
            "Google ['propn']\n",
            "ist ['aux']\n",
            "eine ['det']\n",
            "nette ['adj']\n",
            "Suchmaschine ['noun']\n",
            ". ['punct']\n",
            "/////////////////New Sentence//////////////////////\n",
            "Mary ['propn']\n",
            "hat ['verb']\n",
            "eine ['det']\n",
            "Katze ['noun']\n",
            "/////////////////New Sentence//////////////////////\n",
            "Spiderman ['noun']\n",
            "existiert ['verb']\n",
            "/////////////////New Sentence//////////////////////\n",
            "ich ['pron']\n",
            "bin ['aux']\n",
            "echt ['adv']\n"
          ]
        }
      ],
      "source": [
        "# To compute the part-of-speech tags for given new, previously unseen sentences inputted by the user.\n",
        "# Change, add or remove strings inside the vector to try new values\n",
        "text_to_predict = [\"Google ist eine nette Suchmaschine.\",\"Mary hat eine Katze\", \"Spiderman existiert\",\"ich bin echt\"]\n",
        "\n",
        "dh_ger.print_Detokenized_char_Values(mh_adv_ger.test_predict_char(dh_ger.get_char_Test_Data(text_to_predict)))"
      ]
    },
    {
      "attachments": {},
      "cell_type": "markdown",
      "id": "ExP4foF423zE",
      "metadata": {
        "id": "ExP4foF423zE"
      },
      "source": [
        "# Conclusions"
      ]
    },
    {
      "cell_type": "code",
      "execution_count": 31,
      "id": "ILON9kjXA-w4",
      "metadata": {
        "id": "ILON9kjXA-w4"
      },
      "outputs": [],
      "source": [
        "import matplotlib.pyplot as plt"
      ]
    },
    {
      "cell_type": "code",
      "execution_count": 32,
      "id": "FKNpjM9I3m-b",
      "metadata": {
        "colab": {
          "base_uri": "https://localhost:8080/",
          "height": 677
        },
        "id": "FKNpjM9I3m-b",
        "outputId": "08fa9550-2fbb-4391-b6e2-9b247916eabd"
      },
      "outputs": [
        {
          "data": {
            "image/png": "[encoded data removed]",
            "text/plain": [
              "<Figure size 1080x720 with 4 Axes>"
            ]
          },
          "metadata": {
            "needs_background": "light"
          },
          "output_type": "display_data"
        }
      ],
      "source": [
        "plt.rcParams[\"figure.figsize\"] = (15,10)\n",
        "\n",
        "# Get the fit history of each model\n",
        "history_bas_eng=mh_bas_eng.get_history()\n",
        "history_bas_spa=mh_bas_spa.get_history()\n",
        "history_bas_ger=mh_bas_ger.get_history()\n",
        "history_adv_eng=mh_adv_eng.get_history()\n",
        "history_adv_spa=mh_adv_spa.get_history()\n",
        "history_adv_ger=mh_adv_ger.get_history()\n",
        "\n",
        "# summarize history for train accuracy\n",
        "fig, axs = plt.subplots(2,2)\n",
        "fig.suptitle('Model Languague Comparative')\n",
        "axs[0,0].plot(history_bas_eng.history['accuracy'])\n",
        "axs[0,0].plot(history_bas_spa.history['accuracy'])\n",
        "axs[0,0].plot(history_bas_ger.history['accuracy'])\n",
        "axs[0,0].plot(history_adv_eng.history['accuracy'])\n",
        "axs[0,0].plot(history_adv_spa.history['accuracy'])\n",
        "axs[0,0].plot(history_adv_ger.history['accuracy'])\n",
        "axs[0,0].set_title(\"Train Accuracy\")\n",
        "axs[0,0].legend(['Basic English', 'Basic Spanish', 'Basic German', 'Advanced English', 'Advanced Spanish', 'Advanced German'], loc='lower right')\n",
        "# summarize history for validation accuracy\n",
        "axs[0,1].plot(history_bas_eng.history['val_accuracy'])\n",
        "axs[0,1].plot(history_bas_spa.history['val_accuracy'])\n",
        "axs[0,1].plot(history_bas_ger.history['val_accuracy'])\n",
        "axs[0,1].plot(history_adv_eng.history['val_accuracy'])\n",
        "axs[0,1].plot(history_adv_spa.history['val_accuracy'])\n",
        "axs[0,1].plot(history_adv_ger.history['val_accuracy'])\n",
        "axs[0,1].set_title(\"Validation Accuracy\")\n",
        "axs[0,1].legend(['Basic English', 'Basic Spanish', 'Basic German', 'Advanced English', 'Advanced Spanish', 'Advanced German'], loc='lower right')\n",
        "# summarize history for train loss\n",
        "axs[1,0].plot(history_bas_eng.history['loss'])\n",
        "axs[1,0].plot(history_bas_spa.history['loss'])\n",
        "axs[1,0].plot(history_bas_ger.history['loss'])\n",
        "axs[1,0].plot(history_adv_eng.history['loss'])\n",
        "axs[1,0].plot(history_adv_spa.history['loss'])\n",
        "axs[1,0].plot(history_adv_ger.history['loss'])\n",
        "axs[1,0].set_title(\"Train Loss\")\n",
        "axs[1,0].legend(['Basic English', 'Basic Spanish', 'Basic German', 'Advanced English', 'Advanced Spanish', 'Advanced German'], loc='upper right')\n",
        "# summarize history for validation loss\n",
        "axs[1,1].plot(history_bas_eng.history['val_loss'])\n",
        "axs[1,1].plot(history_bas_spa.history['val_loss'])\n",
        "axs[1,1].plot(history_bas_ger.history['val_loss'])\n",
        "axs[1,1].plot(history_adv_eng.history['val_loss'])\n",
        "axs[1,1].plot(history_adv_spa.history['val_loss'])\n",
        "axs[1,1].plot(history_adv_ger.history['val_loss'])\n",
        "axs[1,1].set_title(\"Validation Loss\")\n",
        "axs[1,1].legend(['Basic English', 'Basic Spanish', 'Basic German', 'Advanced English', 'Advanced Spanish', 'Advanced German'], loc='upper right')\n",
        "\n",
        "\n",
        "for ax in axs.flat:\n",
        "    ax.set(xlabel='Epoch', ylabel='Values')\n",
        "\n",
        "# Hide x labels and tick labels for top plots and y ticks for right plots.\n",
        "for ax in axs.flat:\n",
        "    ax.label_outer()"
      ]
    },
    {
      "cell_type": "code",
      "execution_count": 33,
      "id": "SHveOM7j9cZO",
      "metadata": {
        "colab": {
          "base_uri": "https://localhost:8080/",
          "height": 607
        },
        "id": "SHveOM7j9cZO",
        "outputId": "689dff4e-f28e-42cc-d9aa-2bbb568ebede"
      },
      "outputs": [
        {
          "data": {
            "image/png": "[encoded data removed]",
            "text/plain": [
              "<Figure size 1080x720 with 1 Axes>"
            ]
          },
          "metadata": {
            "needs_background": "light"
          },
          "output_type": "display_data"
        }
      ],
      "source": [
        "# summarize history for real accuracy\n",
        "\n",
        "# Divide the correct words for the total to get the percentage\n",
        "real_acurracy_bas_eng = predict_bas_eng[1]/predict_bas_eng[0]\n",
        "real_acurracy_bas_spa = predict_bas_spa[1]/predict_bas_spa[0]\n",
        "real_acurracy_bas_ger = predict_bas_ger[1]/predict_bas_ger[0]\n",
        "real_acurracy_adv_eng = predict_adv_eng[1]/predict_adv_eng[0]\n",
        "real_acurracy_adv_spa = predict_adv_spa[1]/predict_adv_spa[0]\n",
        "real_acurracy_adv_ger = predict_adv_ger[1]/predict_adv_ger[0]\n",
        "\n",
        "plt.bar(['Basic English','Advanced English','Basic Spanish','Advanced Spanish','Basic German','Advanced German'],[real_acurracy_bas_eng, real_acurracy_adv_eng,real_acurracy_bas_spa, real_acurracy_adv_spa,real_acurracy_bas_ger,   real_acurracy_adv_ger], color=['blue', 'blue', 'red', 'red', 'grey', 'grey'])\n",
        "plt.title('Model Real Accuracy')\n",
        "plt.ylabel('Accuracy')\n",
        "plt.show()"
      ]
    }
  ],
  "metadata": {
    "accelerator": "GPU",
    "colab": {
      "provenance": []
    },
    "gpuClass": "standard",
    "kernelspec": {
      "display_name": "Python 3 (ipykernel)",
      "language": "python",
      "name": "python3"
    },
    "language_info": {
      "codemirror_mode": {
        "name": "ipython",
        "version": 3
      },
      "file_extension": ".py",
      "mimetype": "text/x-python",
      "name": "python",
      "nbconvert_exporter": "python",
      "pygments_lexer": "ipython3",
      "version": "3.10.4"
    }
  },
  "nbformat": 4,
  "nbformat_minor": 5
}
